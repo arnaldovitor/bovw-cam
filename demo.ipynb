{
 "cells": [
  {
   "attachments": {},
   "cell_type": "markdown",
   "metadata": {},
   "source": [
    "# Imports"
   ]
  },
  {
   "cell_type": "code",
   "execution_count": 1,
   "metadata": {},
   "outputs": [
    {
     "ename": "ModuleNotFoundError",
     "evalue": "No module named 'src'",
     "output_type": "error",
     "traceback": [
      "\u001b[0;31m---------------------------------------------------------------------------\u001b[0m",
      "\u001b[0;31mModuleNotFoundError\u001b[0m                       Traceback (most recent call last)",
      "Cell \u001b[0;32mIn[1], line 3\u001b[0m\n\u001b[1;32m      1\u001b[0m \u001b[39mfrom\u001b[39;00m \u001b[39mbovw_cam\u001b[39;00m\u001b[39m.\u001b[39;00m\u001b[39mfeature_extractor\u001b[39;00m \u001b[39mimport\u001b[39;00m FeatureExtractor\n\u001b[1;32m      2\u001b[0m \u001b[39mfrom\u001b[39;00m \u001b[39mbovw_cam\u001b[39;00m\u001b[39m.\u001b[39;00m\u001b[39mbovw\u001b[39;00m \u001b[39mimport\u001b[39;00m BoVW\n\u001b[0;32m----> 3\u001b[0m \u001b[39mfrom\u001b[39;00m \u001b[39mbovw_cam\u001b[39;00m\u001b[39m.\u001b[39;00m\u001b[39mbovw_cam\u001b[39;00m \u001b[39mimport\u001b[39;00m BoVWCAM\n\u001b[1;32m      4\u001b[0m \u001b[39mfrom\u001b[39;00m \u001b[39mbovw_cam\u001b[39;00m\u001b[39m.\u001b[39;00m\u001b[39mclassifier_interface\u001b[39;00m \u001b[39mimport\u001b[39;00m ClassifierInterface\n\u001b[1;32m      6\u001b[0m \u001b[39mfrom\u001b[39;00m \u001b[39msklearn\u001b[39;00m \u001b[39mimport\u001b[39;00m svm\n",
      "File \u001b[0;32m~/bovw-cam/bovw_cam/bovw_cam.py:5\u001b[0m\n\u001b[1;32m      2\u001b[0m \u001b[39mimport\u001b[39;00m \u001b[39mnumpy\u001b[39;00m \u001b[39mas\u001b[39;00m \u001b[39mnp\u001b[39;00m\n\u001b[1;32m      3\u001b[0m \u001b[39mimport\u001b[39;00m \u001b[39mpandas\u001b[39;00m \u001b[39mas\u001b[39;00m \u001b[39mpd\u001b[39;00m\n\u001b[0;32m----> 5\u001b[0m \u001b[39mfrom\u001b[39;00m \u001b[39msrc\u001b[39;00m\u001b[39m.\u001b[39;00m\u001b[39mclassifier_interface\u001b[39;00m \u001b[39mimport\u001b[39;00m ClassifierInterface\n\u001b[1;32m      8\u001b[0m \u001b[39mclass\u001b[39;00m \u001b[39mBoVWCAM\u001b[39;00m:\n\u001b[1;32m      9\u001b[0m     \u001b[39mdef\u001b[39;00m \u001b[39m__init__\u001b[39m(\n\u001b[1;32m     10\u001b[0m         \u001b[39mself\u001b[39m, classifier: ClassifierInterface, dictionary_histograms: pd\u001b[39m.\u001b[39mDataFrame\n\u001b[1;32m     11\u001b[0m     ) \u001b[39m-\u001b[39m\u001b[39m>\u001b[39m \u001b[39mNone\u001b[39;00m:\n",
      "\u001b[0;31mModuleNotFoundError\u001b[0m: No module named 'src'"
     ]
    }
   ],
   "source": [
    "from bovw_cam.feature_extractor import FeatureExtractor\n",
    "from bovw_cam.bovw import BoVW\n",
    "from bovw_cam.bovw_cam import BoVWCAM\n",
    "from bovw_cam.classifier_interface import ClassifierInterface\n",
    "\n",
    "from sklearn import svm\n",
    "from matplotlib import pyplot as plt\n",
    "\n",
    "import cv2"
   ]
  },
  {
   "attachments": {},
   "cell_type": "markdown",
   "metadata": {},
   "source": [
    "# Feature extraction with SIFT"
   ]
  },
  {
   "cell_type": "code",
   "execution_count": null,
   "metadata": {},
   "outputs": [],
   "source": [
    "feature_extractor = FeatureExtractor()\n",
    "\n",
    "train, test = feature_extractor.create_train_test_split('/home/arnaldo/Pictures/toy_classification_dataset/train',\n",
    "                                                        '/home/arnaldo/Pictures/toy_classification_dataset/test')\n",
    "\n",
    "dictionary = feature_extractor.create_dictionary_split('/home/arnaldo/Pictures/toy_classification_dataset/dict', 0.9)"
   ]
  },
  {
   "cell_type": "code",
   "execution_count": null,
   "metadata": {},
   "outputs": [],
   "source": [
    "train"
   ]
  },
  {
   "attachments": {},
   "cell_type": "markdown",
   "metadata": {},
   "source": [
    "# Bag-of-Visual-Words"
   ]
  },
  {
   "cell_type": "code",
   "execution_count": null,
   "metadata": {},
   "outputs": [],
   "source": [
    "bovw = BoVW(dictionary, 256, 32)\n",
    "\n",
    "dict_histograms, dict_metadata = bovw.get_feature_vectors(dictionary)\n",
    "train_histograms, train_metadata = bovw.get_feature_vectors(train)\n",
    "test_histograms, test_metadata = bovw.get_feature_vectors(test)"
   ]
  },
  {
   "cell_type": "code",
   "execution_count": null,
   "metadata": {},
   "outputs": [],
   "source": [
    "train_histograms"
   ]
  },
  {
   "cell_type": "code",
   "execution_count": null,
   "metadata": {},
   "outputs": [],
   "source": [
    "train_metadata"
   ]
  },
  {
   "attachments": {},
   "cell_type": "markdown",
   "metadata": {},
   "source": [
    "# Train SVM"
   ]
  },
  {
   "cell_type": "code",
   "execution_count": null,
   "metadata": {},
   "outputs": [],
   "source": [
    "svm = svm.SVC()\n",
    "\n",
    "X_train = train_histograms.drop(['image_path', 'target'], axis=1)\n",
    "y_train = train_histograms['target']\n",
    "\n",
    "svm.fit(X_train, y_train)"
   ]
  },
  {
   "attachments": {},
   "cell_type": "markdown",
   "metadata": {},
   "source": [
    "# Classification interface implementation"
   ]
  },
  {
   "cell_type": "code",
   "execution_count": null,
   "metadata": {},
   "outputs": [],
   "source": [
    "from typing import Any\n",
    "\n",
    "\n",
    "class MyClassifier(ClassifierInterface):\n",
    "    def __init__(self, model) -> None:\n",
    "        super().__init__(model)\n",
    "        self.map_class = {'class_1': 0, 'class_2': 1}\n",
    "\n",
    "    def predict(self, input_sample: Any) -> int:\n",
    "        predicted_class = self.model.predict(input_sample)\n",
    "        return self.map_class[predicted_class[0]]\n",
    "    \n",
    "my_classfier = MyClassifier(svm)"
   ]
  },
  {
   "attachments": {},
   "cell_type": "markdown",
   "metadata": {},
   "source": [
    "# Bag-of-Visual-Words-Class-Activation-Map"
   ]
  },
  {
   "cell_type": "code",
   "execution_count": null,
   "metadata": {},
   "outputs": [],
   "source": [
    "MAX_POOLING_PARAMS = {'kernel_size': 32, 'stride': 8}\n",
    "\n",
    "bovw_cam = BoVWCAM(my_classfier, dict_histograms)\n",
    "\n",
    "cam = bovw_cam.get_class_activation_map('/home/arnaldo/Pictures/toy_classification_dataset/test/class_2/1584679085.ac7be78536.jpg', \n",
    "                                        test_histograms, \n",
    "                                        test_metadata, \n",
    "                                        MAX_POOLING_PARAMS)\n",
    "\n",
    "cam_with_color = cv2.applyColorMap(cam, cv2.COLORMAP_HOT)\n",
    "\n",
    "plt.imshow(cam_with_color)"
   ]
  }
 ],
 "metadata": {
  "kernelspec": {
   "display_name": ".venv",
   "language": "python",
   "name": "python3"
  },
  "language_info": {
   "codemirror_mode": {
    "name": "ipython",
    "version": 3
   },
   "file_extension": ".py",
   "mimetype": "text/x-python",
   "name": "python",
   "nbconvert_exporter": "python",
   "pygments_lexer": "ipython3",
   "version": "3.11.3"
  },
  "orig_nbformat": 4
 },
 "nbformat": 4,
 "nbformat_minor": 2
}
